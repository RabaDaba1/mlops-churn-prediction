{
 "cells": [
  {
   "cell_type": "markdown",
   "id": "b084bc57",
   "metadata": {},
   "source": [
    "# Data Preparation &amp; Feature Engineering"
   ]
  },
  {
   "cell_type": "code",
   "execution_count": null,
   "id": "c3e4f6b6",
   "metadata": {},
   "outputs": [],
   "source": [
    "import pandas as pd\n",
    "import plotly.express as px\n",
    "from pathlib import Path"
   ]
  },
  {
   "cell_type": "code",
   "execution_count": null,
   "id": "0815703c",
   "metadata": {},
   "outputs": [],
   "source": [
    "PROCESSED_DATA_DIR = Path(\"../data/processed\")\n",
    "FEATURES_DIR = Path(\"../data/features\")\n",
    "\n",
    "FEATURES_DIR.mkdir(parents=True, exist_ok=True)"
   ]
  },
  {
   "cell_type": "code",
   "execution_count": null,
   "id": "a399a025",
   "metadata": {},
   "outputs": [],
   "source": [
    "df = pd.read_csv(PROCESSED_DATA_DIR / \"prepared_data.csv\")\n",
    "df.head()"
   ]
  },
  {
   "cell_type": "markdown",
   "id": "be63a61a",
   "metadata": {},
   "source": [
    "## Exploratory Data Analysis"
   ]
  },
  {
   "cell_type": "code",
   "execution_count": null,
   "id": "0d13eeaa",
   "metadata": {},
   "outputs": [],
   "source": [
    "fig = px.pie(df, names=\"churn\", title=\"Churn Distribution\")\n",
    "fig.show()"
   ]
  },
  {
   "cell_type": "markdown",
   "id": "915196f6",
   "metadata": {},
   "source": [
    "## Feature Engineering"
   ]
  },
  {
   "cell_type": "code",
   "execution_count": null,
   "id": "469ed35d",
   "metadata": {},
   "outputs": [],
   "source": [
    "categorical_cols = df.select_dtypes(include=[\"object\", \"category\"]).columns.tolist()\n",
    "\n",
    "if \"churn\" in categorical_cols:\n",
    "    categorical_cols.remove(\"churn\")\n",
    "\n",
    "categorical_cols"
   ]
  },
  {
   "cell_type": "code",
   "execution_count": null,
   "id": "73ba0a60",
   "metadata": {},
   "outputs": [],
   "source": [
    "df_encoded = pd.get_dummies(df, columns=categorical_cols, drop_first=True)\n",
    "df_encoded.head()"
   ]
  },
  {
   "cell_type": "code",
   "execution_count": null,
   "id": "e7fb81ec",
   "metadata": {},
   "outputs": [],
   "source": [
    "output_path = FEATURES_DIR / \"features.csv\"\n",
    "df_encoded.to_csv(output_path, index=False)\n",
    "\n",
    "print(f\"Feature-engineered data saved to {output_path}\")"
   ]
  }
 ],
 "metadata": {
  "language_info": {
   "name": "python"
  }
 },
 "nbformat": 4,
 "nbformat_minor": 5
}
